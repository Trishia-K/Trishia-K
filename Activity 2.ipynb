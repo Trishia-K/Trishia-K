{
 "cells": [
  {
   "cell_type": "markdown",
   "metadata": {},
   "source": [
    "EXPLORATORY DATA ANALYSIS<br>\n",
    "KOBUMANZI TRISHIA"
   ]
  },
  {
   "cell_type": "code",
   "execution_count": 13,
   "metadata": {},
   "outputs": [],
   "source": [
    "import pandas as pd\n",
    "import matplotlib.pyplot as plt\n",
    "import numpy as np"
   ]
  },
  {
   "cell_type": "code",
   "execution_count": 14,
   "metadata": {},
   "outputs": [
    {
     "data": {
      "text/html": [
       "<div>\n",
       "<style scoped>\n",
       "    .dataframe tbody tr th:only-of-type {\n",
       "        vertical-align: middle;\n",
       "    }\n",
       "\n",
       "    .dataframe tbody tr th {\n",
       "        vertical-align: top;\n",
       "    }\n",
       "\n",
       "    .dataframe thead th {\n",
       "        text-align: right;\n",
       "    }\n",
       "</style>\n",
       "<table border=\"1\" class=\"dataframe\">\n",
       "  <thead>\n",
       "    <tr style=\"text-align: right;\">\n",
       "      <th></th>\n",
       "      <th>Player Name</th>\n",
       "      <th>Team</th>\n",
       "      <th>Games Played</th>\n",
       "      <th>Points Scored</th>\n",
       "      <th>Assists</th>\n",
       "      <th>Rebounds</th>\n",
       "      <th>3-Point Percentage</th>\n",
       "      <th>Fouls</th>\n",
       "    </tr>\n",
       "  </thead>\n",
       "  <tbody>\n",
       "    <tr>\n",
       "      <th>0</th>\n",
       "      <td>John Smith</td>\n",
       "      <td>Raptors</td>\n",
       "      <td>10</td>\n",
       "      <td>150</td>\n",
       "      <td>30</td>\n",
       "      <td>45</td>\n",
       "      <td>35.5</td>\n",
       "      <td>12</td>\n",
       "    </tr>\n",
       "    <tr>\n",
       "      <th>1</th>\n",
       "      <td>Sarah Johnson</td>\n",
       "      <td>Warriors</td>\n",
       "      <td>12</td>\n",
       "      <td>180</td>\n",
       "      <td>25</td>\n",
       "      <td>50</td>\n",
       "      <td>40.1</td>\n",
       "      <td>15</td>\n",
       "    </tr>\n",
       "    <tr>\n",
       "      <th>2</th>\n",
       "      <td>Mike Brown</td>\n",
       "      <td>Raptors</td>\n",
       "      <td>8</td>\n",
       "      <td>120</td>\n",
       "      <td>20</td>\n",
       "      <td>30</td>\n",
       "      <td>30.8</td>\n",
       "      <td>10</td>\n",
       "    </tr>\n",
       "    <tr>\n",
       "      <th>3</th>\n",
       "      <td>Emily Davis</td>\n",
       "      <td>Hawks</td>\n",
       "      <td>9</td>\n",
       "      <td>140</td>\n",
       "      <td>35</td>\n",
       "      <td>40</td>\n",
       "      <td>38.2</td>\n",
       "      <td>8</td>\n",
       "    </tr>\n",
       "    <tr>\n",
       "      <th>4</th>\n",
       "      <td>Chris Wilson</td>\n",
       "      <td>Warriors</td>\n",
       "      <td>11</td>\n",
       "      <td>170</td>\n",
       "      <td>22</td>\n",
       "      <td>35</td>\n",
       "      <td>42.0</td>\n",
       "      <td>14</td>\n",
       "    </tr>\n",
       "    <tr>\n",
       "      <th>5</th>\n",
       "      <td>Jessica Lee</td>\n",
       "      <td>Hawks</td>\n",
       "      <td>7</td>\n",
       "      <td>100</td>\n",
       "      <td>15</td>\n",
       "      <td>25</td>\n",
       "      <td>28.5</td>\n",
       "      <td>6</td>\n",
       "    </tr>\n",
       "    <tr>\n",
       "      <th>6</th>\n",
       "      <td>Daniel Green</td>\n",
       "      <td>Raptors</td>\n",
       "      <td>10</td>\n",
       "      <td>160</td>\n",
       "      <td>18</td>\n",
       "      <td>40</td>\n",
       "      <td>37.6</td>\n",
       "      <td>11</td>\n",
       "    </tr>\n",
       "    <tr>\n",
       "      <th>7</th>\n",
       "      <td>Amanda White</td>\n",
       "      <td>Hawks</td>\n",
       "      <td>8</td>\n",
       "      <td>110</td>\n",
       "      <td>20</td>\n",
       "      <td>30</td>\n",
       "      <td>32.4</td>\n",
       "      <td>9</td>\n",
       "    </tr>\n",
       "  </tbody>\n",
       "</table>\n",
       "</div>"
      ],
      "text/plain": [
       "     Player Name      Team  Games Played  Points Scored  Assists  Rebounds  \\\n",
       "0     John Smith   Raptors            10            150       30        45   \n",
       "1  Sarah Johnson  Warriors            12            180       25        50   \n",
       "2     Mike Brown   Raptors             8            120       20        30   \n",
       "3    Emily Davis     Hawks             9            140       35        40   \n",
       "4   Chris Wilson  Warriors            11            170       22        35   \n",
       "5    Jessica Lee     Hawks             7            100       15        25   \n",
       "6   Daniel Green   Raptors            10            160       18        40   \n",
       "7   Amanda White     Hawks             8            110       20        30   \n",
       "\n",
       "   3-Point Percentage  Fouls  \n",
       "0                35.5     12  \n",
       "1                40.1     15  \n",
       "2                30.8     10  \n",
       "3                38.2      8  \n",
       "4                42.0     14  \n",
       "5                28.5      6  \n",
       "6                37.6     11  \n",
       "7                32.4      9  "
      ]
     },
     "execution_count": 14,
     "metadata": {},
     "output_type": "execute_result"
    }
   ],
   "source": [
    "Basketball=pd.read_csv(\"Basketball_Player_Performance.csv\")\n",
    "Basketball"
   ]
  },
  {
   "cell_type": "code",
   "execution_count": 15,
   "metadata": {},
   "outputs": [
    {
     "data": {
      "text/html": [
       "<div>\n",
       "<style scoped>\n",
       "    .dataframe tbody tr th:only-of-type {\n",
       "        vertical-align: middle;\n",
       "    }\n",
       "\n",
       "    .dataframe tbody tr th {\n",
       "        vertical-align: top;\n",
       "    }\n",
       "\n",
       "    .dataframe thead th {\n",
       "        text-align: right;\n",
       "    }\n",
       "</style>\n",
       "<table border=\"1\" class=\"dataframe\">\n",
       "  <thead>\n",
       "    <tr style=\"text-align: right;\">\n",
       "      <th></th>\n",
       "      <th>Games Played</th>\n",
       "      <th>Points Scored</th>\n",
       "      <th>Assists</th>\n",
       "      <th>Rebounds</th>\n",
       "      <th>3-Point Percentage</th>\n",
       "      <th>Fouls</th>\n",
       "    </tr>\n",
       "  </thead>\n",
       "  <tbody>\n",
       "    <tr>\n",
       "      <th>count</th>\n",
       "      <td>8.000000</td>\n",
       "      <td>8.000000</td>\n",
       "      <td>8.000000</td>\n",
       "      <td>8.00000</td>\n",
       "      <td>8.000000</td>\n",
       "      <td>8.000000</td>\n",
       "    </tr>\n",
       "    <tr>\n",
       "      <th>mean</th>\n",
       "      <td>9.375000</td>\n",
       "      <td>141.250000</td>\n",
       "      <td>23.125000</td>\n",
       "      <td>36.87500</td>\n",
       "      <td>35.637500</td>\n",
       "      <td>10.625000</td>\n",
       "    </tr>\n",
       "    <tr>\n",
       "      <th>std</th>\n",
       "      <td>1.685018</td>\n",
       "      <td>29.001232</td>\n",
       "      <td>6.599513</td>\n",
       "      <td>8.42509</td>\n",
       "      <td>4.715609</td>\n",
       "      <td>3.020761</td>\n",
       "    </tr>\n",
       "    <tr>\n",
       "      <th>min</th>\n",
       "      <td>7.000000</td>\n",
       "      <td>100.000000</td>\n",
       "      <td>15.000000</td>\n",
       "      <td>25.00000</td>\n",
       "      <td>28.500000</td>\n",
       "      <td>6.000000</td>\n",
       "    </tr>\n",
       "    <tr>\n",
       "      <th>25%</th>\n",
       "      <td>8.000000</td>\n",
       "      <td>117.500000</td>\n",
       "      <td>19.500000</td>\n",
       "      <td>30.00000</td>\n",
       "      <td>32.000000</td>\n",
       "      <td>8.750000</td>\n",
       "    </tr>\n",
       "    <tr>\n",
       "      <th>50%</th>\n",
       "      <td>9.500000</td>\n",
       "      <td>145.000000</td>\n",
       "      <td>21.000000</td>\n",
       "      <td>37.50000</td>\n",
       "      <td>36.550000</td>\n",
       "      <td>10.500000</td>\n",
       "    </tr>\n",
       "    <tr>\n",
       "      <th>75%</th>\n",
       "      <td>10.250000</td>\n",
       "      <td>162.500000</td>\n",
       "      <td>26.250000</td>\n",
       "      <td>41.25000</td>\n",
       "      <td>38.675000</td>\n",
       "      <td>12.500000</td>\n",
       "    </tr>\n",
       "    <tr>\n",
       "      <th>max</th>\n",
       "      <td>12.000000</td>\n",
       "      <td>180.000000</td>\n",
       "      <td>35.000000</td>\n",
       "      <td>50.00000</td>\n",
       "      <td>42.000000</td>\n",
       "      <td>15.000000</td>\n",
       "    </tr>\n",
       "  </tbody>\n",
       "</table>\n",
       "</div>"
      ],
      "text/plain": [
       "       Games Played  Points Scored    Assists  Rebounds  3-Point Percentage  \\\n",
       "count      8.000000       8.000000   8.000000   8.00000            8.000000   \n",
       "mean       9.375000     141.250000  23.125000  36.87500           35.637500   \n",
       "std        1.685018      29.001232   6.599513   8.42509            4.715609   \n",
       "min        7.000000     100.000000  15.000000  25.00000           28.500000   \n",
       "25%        8.000000     117.500000  19.500000  30.00000           32.000000   \n",
       "50%        9.500000     145.000000  21.000000  37.50000           36.550000   \n",
       "75%       10.250000     162.500000  26.250000  41.25000           38.675000   \n",
       "max       12.000000     180.000000  35.000000  50.00000           42.000000   \n",
       "\n",
       "           Fouls  \n",
       "count   8.000000  \n",
       "mean   10.625000  \n",
       "std     3.020761  \n",
       "min     6.000000  \n",
       "25%     8.750000  \n",
       "50%    10.500000  \n",
       "75%    12.500000  \n",
       "max    15.000000  "
      ]
     },
     "execution_count": 15,
     "metadata": {},
     "output_type": "execute_result"
    }
   ],
   "source": [
    "#descriptive statistics\n",
    "Basketball.describe()"
   ]
  },
  {
   "cell_type": "markdown",
   "metadata": {},
   "source": [
    "*The central tendency of Points scored (mean =141.250000, median  =145.000000) shows that median is greater than mean which implies that Points scored are normally distributed.This implies that there's no limit on the minimum points scored in a game but there's a limit on the maximum points scored per game.\n"
   ]
  },
  {
   "cell_type": "code",
   "execution_count": 20,
   "metadata": {},
   "outputs": [
    {
     "data": {
      "text/plain": [
       "Player Name            object\n",
       "Team                   object\n",
       "Games Played            int64\n",
       "Points Scored           int64\n",
       "Assists                 int64\n",
       "Rebounds                int64\n",
       "3-Point Percentage    float64\n",
       "Fouls                   int64\n",
       "dtype: object"
      ]
     },
     "execution_count": 20,
     "metadata": {},
     "output_type": "execute_result"
    }
   ],
   "source": [
    "Basketball.dtypes"
   ]
  },
  {
   "cell_type": "code",
   "execution_count": 17,
   "metadata": {},
   "outputs": [
    {
     "data": {
      "text/plain": [
       "<Axes: title={'center': 'Games Played VS Points Scored'}, xlabel='Games Played', ylabel='Points Scored'>"
      ]
     },
     "execution_count": 17,
     "metadata": {},
     "output_type": "execute_result"
    },
    {
     "data": {
      "image/png": "[encoded data removed]",
      "text/plain": [
       "<Figure size 1000x500 with 1 Axes>"
      ]
     },
     "metadata": {},
     "output_type": "display_data"
    }
   ],
   "source": [
    "#Scatter plot to show relationship Games played and Points scored\n",
    "Basketball.plot.scatter(x='Games Played', y='Points Scored', figsize=(10,5), title='Games Played'+\" VS \"+ 'Points Scored')"
   ]
  },
  {
   "cell_type": "code",
   "execution_count": 19,
   "metadata": {},
   "outputs": [
    {
     "data": {
      "text/plain": [
       "<Axes: title={'center': 'Points Scored'}, xlabel='Team'>"
      ]
     },
     "execution_count": 19,
     "metadata": {},
     "output_type": "execute_result"
    },
    {
     "data": {
      "image/png": "[encoded data removed]",
      "text/plain": [
       "<Figure size 1800x1000 with 1 Axes>"
      ]
     },
     "metadata": {},
     "output_type": "display_data"
    }
   ],
   "source": [
    "# Boxplot between \"Team\" and \"Point Scored\"\n",
    "Basketball.boxplot(column='Points Scored', by='Team', figsize=(18,10))"
   ]
  }
 ],
 "metadata": {
  "kernelspec": {
   "display_name": "Python 3",
   "language": "python",
   "name": "python3"
  },
  "language_info": {
   "codemirror_mode": {
    "name": "ipython",
    "version": 3
   },
   "file_extension": ".py",
   "mimetype": "text/x-python",
   "name": "python",
   "nbconvert_exporter": "python",
   "pygments_lexer": "ipython3",
   "version": "3.12.5"
  }
 },
 "nbformat": 4,
 "nbformat_minor": 2
}
