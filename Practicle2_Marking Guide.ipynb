{
 "cells": [
  {
   "cell_type": "markdown",
   "metadata": {},
   "source": [
    "- importing the neccesary libraries"
   ]
  },
  {
   "cell_type": "code",
   "execution_count": 1,
   "metadata": {},
   "outputs": [],
   "source": [
    "import pandas as pd"
   ]
  },
  {
   "cell_type": "markdown",
   "metadata": {},
   "source": [
    "- reading the data"
   ]
  },
  {
   "cell_type": "code",
   "execution_count": 2,
   "metadata": {},
   "outputs": [
    {
     "data": {
      "text/html": [
       "<div>\n",
       "<style scoped>\n",
       "    .dataframe tbody tr th:only-of-type {\n",
       "        vertical-align: middle;\n",
       "    }\n",
       "\n",
       "    .dataframe tbody tr th {\n",
       "        vertical-align: top;\n",
       "    }\n",
       "\n",
       "    .dataframe thead th {\n",
       "        text-align: right;\n",
       "    }\n",
       "</style>\n",
       "<table border=\"1\" class=\"dataframe\">\n",
       "  <thead>\n",
       "    <tr style=\"text-align: right;\">\n",
       "      <th></th>\n",
       "      <th>price</th>\n",
       "      <th>carat</th>\n",
       "      <th>cut</th>\n",
       "      <th>color</th>\n",
       "      <th>clarity</th>\n",
       "      <th>depth</th>\n",
       "      <th>table</th>\n",
       "      <th>x</th>\n",
       "      <th>y</th>\n",
       "      <th>z</th>\n",
       "    </tr>\n",
       "  </thead>\n",
       "  <tbody>\n",
       "    <tr>\n",
       "      <th>0</th>\n",
       "      <td>326</td>\n",
       "      <td>0.23</td>\n",
       "      <td>Ideal</td>\n",
       "      <td>E</td>\n",
       "      <td>SI2</td>\n",
       "      <td>61.5</td>\n",
       "      <td>55.0</td>\n",
       "      <td>3.95</td>\n",
       "      <td>3.98</td>\n",
       "      <td>2.43</td>\n",
       "    </tr>\n",
       "    <tr>\n",
       "      <th>1</th>\n",
       "      <td>326</td>\n",
       "      <td>0.21</td>\n",
       "      <td>Premium</td>\n",
       "      <td>E</td>\n",
       "      <td>SI1</td>\n",
       "      <td>59.8</td>\n",
       "      <td>61.0</td>\n",
       "      <td>3.89</td>\n",
       "      <td>3.84</td>\n",
       "      <td>2.31</td>\n",
       "    </tr>\n",
       "    <tr>\n",
       "      <th>2</th>\n",
       "      <td>327</td>\n",
       "      <td>0.23</td>\n",
       "      <td>Good</td>\n",
       "      <td>E</td>\n",
       "      <td>VS1</td>\n",
       "      <td>56.9</td>\n",
       "      <td>65.0</td>\n",
       "      <td>4.05</td>\n",
       "      <td>4.07</td>\n",
       "      <td>2.31</td>\n",
       "    </tr>\n",
       "    <tr>\n",
       "      <th>3</th>\n",
       "      <td>334</td>\n",
       "      <td>0.29</td>\n",
       "      <td>Premium</td>\n",
       "      <td>I</td>\n",
       "      <td>VS2</td>\n",
       "      <td>62.4</td>\n",
       "      <td>58.0</td>\n",
       "      <td>4.20</td>\n",
       "      <td>4.23</td>\n",
       "      <td>2.63</td>\n",
       "    </tr>\n",
       "    <tr>\n",
       "      <th>4</th>\n",
       "      <td>335</td>\n",
       "      <td>0.31</td>\n",
       "      <td>Good</td>\n",
       "      <td>J</td>\n",
       "      <td>SI2</td>\n",
       "      <td>63.3</td>\n",
       "      <td>58.0</td>\n",
       "      <td>4.34</td>\n",
       "      <td>4.35</td>\n",
       "      <td>2.75</td>\n",
       "    </tr>\n",
       "  </tbody>\n",
       "</table>\n",
       "</div>"
      ],
      "text/plain": [
       "   price  carat      cut color clarity  depth  table     x     y     z\n",
       "0    326   0.23    Ideal     E     SI2   61.5   55.0  3.95  3.98  2.43\n",
       "1    326   0.21  Premium     E     SI1   59.8   61.0  3.89  3.84  2.31\n",
       "2    327   0.23     Good     E     VS1   56.9   65.0  4.05  4.07  2.31\n",
       "3    334   0.29  Premium     I     VS2   62.4   58.0  4.20  4.23  2.63\n",
       "4    335   0.31     Good     J     SI2   63.3   58.0  4.34  4.35  2.75"
      ]
     },
     "execution_count": 2,
     "metadata": {},
     "output_type": "execute_result"
    }
   ],
   "source": [
    "diamonds_data = pd.read_excel(\"diamonds_new.xlsx\")\n",
    "diamonds_data.head()"
   ]
  },
  {
   "cell_type": "markdown",
   "metadata": {},
   "source": [
    "## Types of Probability\n",
    "\n",
    "#### i) Conditional probability  "
   ]
  },
  {
   "cell_type": "markdown",
   "metadata": {},
   "source": [
    "Toatal number = 1000 <br />\n",
    "70%play football = 0.7 X 1000  = 700 <br />\n",
    "60% play basketball = 0.6 X 1000 = 600 <br />\n",
    "40% play both = 0.4 X 1000 = 400 <br />\n",
    "\n",
    "p(A|B) = P(AnB)/ P(B) <br />"
   ]
  },
  {
   "cell_type": "code",
   "execution_count": 3,
   "metadata": {},
   "outputs": [
    {
     "name": "stdout",
     "output_type": "stream",
     "text": [
      "The probility that a student who plays basketball also plays football is : 0.6666666666666666\n"
     ]
    }
   ],
   "source": [
    "nA = 0.7*1000\n",
    "nB = 0.6*1000\n",
    "\n",
    "AnB = 0.4*1000\n",
    "probalility = AnB/nB\n",
    "print(f\"The probility that a student who plays basketball also plays football is : {probalility}\")"
   ]
  },
  {
   "cell_type": "markdown",
   "metadata": {},
   "source": [
    "using events"
   ]
  },
  {
   "cell_type": "code",
   "execution_count": 6,
   "metadata": {},
   "outputs": [],
   "source": [
    "sample_space = {1,2,3,4,5,6}\n",
    "event_one = {1,2,3}\n",
    "event_two = {2,4,3}"
   ]
  },
  {
   "cell_type": "code",
   "execution_count": 8,
   "metadata": {},
   "outputs": [
    {
     "name": "stdout",
     "output_type": "stream",
     "text": [
      "the condital probability is : 0.6666666666666666\n"
     ]
    }
   ],
   "source": [
    "joint_probility = len([x for x in event_one if x in event_two])/ len(sample_space)\n",
    "joint_probility\n",
    "\n",
    "probabilty_event_two = len(event_two)/len(sample_space)\n",
    "\n",
    "conditial_probalitiy = joint_probility/probabilty_event_two\n",
    "print(f\"the condital probability is : {conditial_probalitiy}\")"
   ]
  },
  {
   "cell_type": "markdown",
   "metadata": {},
   "source": [
    "Event A: Diamonds with clarity of SI1 <br />\n",
    "Event B: Diamond with carat greater that 0.5 "
   ]
  },
  {
   "cell_type": "code",
   "execution_count": 9,
   "metadata": {},
   "outputs": [
    {
     "data": {
      "text/html": [
       "<div>\n",
       "<style scoped>\n",
       "    .dataframe tbody tr th:only-of-type {\n",
       "        vertical-align: middle;\n",
       "    }\n",
       "\n",
       "    .dataframe tbody tr th {\n",
       "        vertical-align: top;\n",
       "    }\n",
       "\n",
       "    .dataframe thead th {\n",
       "        text-align: right;\n",
       "    }\n",
       "</style>\n",
       "<table border=\"1\" class=\"dataframe\">\n",
       "  <thead>\n",
       "    <tr style=\"text-align: right;\">\n",
       "      <th></th>\n",
       "      <th>clarity</th>\n",
       "      <th>carat</th>\n",
       "    </tr>\n",
       "  </thead>\n",
       "  <tbody>\n",
       "    <tr>\n",
       "      <th>0</th>\n",
       "      <td>SI2</td>\n",
       "      <td>0.23</td>\n",
       "    </tr>\n",
       "    <tr>\n",
       "      <th>1</th>\n",
       "      <td>SI1</td>\n",
       "      <td>0.21</td>\n",
       "    </tr>\n",
       "    <tr>\n",
       "      <th>2</th>\n",
       "      <td>VS1</td>\n",
       "      <td>0.23</td>\n",
       "    </tr>\n",
       "    <tr>\n",
       "      <th>3</th>\n",
       "      <td>VS2</td>\n",
       "      <td>0.29</td>\n",
       "    </tr>\n",
       "    <tr>\n",
       "      <th>4</th>\n",
       "      <td>SI2</td>\n",
       "      <td>0.31</td>\n",
       "    </tr>\n",
       "    <tr>\n",
       "      <th>...</th>\n",
       "      <td>...</td>\n",
       "      <td>...</td>\n",
       "    </tr>\n",
       "    <tr>\n",
       "      <th>53915</th>\n",
       "      <td>SI1</td>\n",
       "      <td>0.72</td>\n",
       "    </tr>\n",
       "    <tr>\n",
       "      <th>53916</th>\n",
       "      <td>SI1</td>\n",
       "      <td>0.72</td>\n",
       "    </tr>\n",
       "    <tr>\n",
       "      <th>53917</th>\n",
       "      <td>SI1</td>\n",
       "      <td>0.70</td>\n",
       "    </tr>\n",
       "    <tr>\n",
       "      <th>53918</th>\n",
       "      <td>SI2</td>\n",
       "      <td>0.86</td>\n",
       "    </tr>\n",
       "    <tr>\n",
       "      <th>53919</th>\n",
       "      <td>SI2</td>\n",
       "      <td>0.75</td>\n",
       "    </tr>\n",
       "  </tbody>\n",
       "</table>\n",
       "<p>53920 rows × 2 columns</p>\n",
       "</div>"
      ],
      "text/plain": [
       "      clarity  carat\n",
       "0         SI2   0.23\n",
       "1         SI1   0.21\n",
       "2         VS1   0.23\n",
       "3         VS2   0.29\n",
       "4         SI2   0.31\n",
       "...       ...    ...\n",
       "53915     SI1   0.72\n",
       "53916     SI1   0.72\n",
       "53917     SI1   0.70\n",
       "53918     SI2   0.86\n",
       "53919     SI2   0.75\n",
       "\n",
       "[53920 rows x 2 columns]"
      ]
     },
     "execution_count": 9,
     "metadata": {},
     "output_type": "execute_result"
    }
   ],
   "source": [
    "diamonds_data[[\"clarity\", 'carat']]"
   ]
  },
  {
   "cell_type": "code",
   "execution_count": 12,
   "metadata": {},
   "outputs": [
    {
     "data": {
      "text/plain": [
       "0.27321826598845517"
      ]
     },
     "execution_count": 12,
     "metadata": {},
     "output_type": "execute_result"
    }
   ],
   "source": [
    "event_a = diamonds_data[diamonds_data['clarity'] == 'SI1']\n",
    "event_b = diamonds_data[diamonds_data['carat'] > 0.5]\n",
    "\n",
    "joint_event = diamonds_data[(diamonds_data['clarity'] == 'SI1') & (diamonds_data['carat'] > 0.5)] \n",
    "joint_probility = len(joint_event)/ len(diamonds_data)\n",
    "\n",
    "joint_probility\n",
    "\n",
    "probabilty_event_b = len(event_b)/ len(diamonds_data)\n",
    "\n",
    "conditial_probalitiy = joint_probility/probabilty_event_b\n",
    "conditial_probalitiy"
   ]
  },
  {
   "cell_type": "markdown",
   "metadata": {},
   "source": [
    "Assignment"
   ]
  },
  {
   "cell_type": "markdown",
   "metadata": {},
   "source": [
    "a) Using the \"Student_performance.xlsx\" dataset, what is the probability of;\n",
    "\n",
    "i)A student studying Information_Technology?\n",
    "\n",
    "ii) A female student studying Computer_Science?\n",
    "\n",
    "iii) A male student studying Data_Science?"
   ]
  },
  {
   "cell_type": "markdown",
   "metadata": {},
   "source": [
    "## MARKING GUIDE: 5 MARKS ##"
   ]
  },
  {
   "cell_type": "code",
   "execution_count": 1,
   "metadata": {},
   "outputs": [],
   "source": [
    "#import pandas as pd\n",
    "import pandas as pd"
   ]
  },
  {
   "cell_type": "code",
   "execution_count": 3,
   "metadata": {},
   "outputs": [],
   "source": [
    "#import dataset as a pandas dataframe called student_data\n",
    "student_data=pd.read_excel(\"Student_performance.xlsx\")"
   ]
  },
  {
   "cell_type": "markdown",
   "metadata": {},
   "source": [
    "**i) Probability of a student studying Information_Technology?**"
   ]
  },
  {
   "cell_type": "code",
   "execution_count": 4,
   "metadata": {},
   "outputs": [
    {
     "name": "stdout",
     "output_type": "stream",
     "text": [
      "Probabilty of student studying Information Technology = 0.2727272727272727\n"
     ]
    }
   ],
   "source": [
    "IT = student_data[student_data['course'] == 'Information_Technology']\n",
    "pIT = len(IT)/ len(student_data) \n",
    "\n",
    "print(f'Probabilty of student studying Information Technology = {pIT}')"
   ]
  },
  {
   "cell_type": "markdown",
   "metadata": {},
   "source": [
    "**ii) Probability of a female student studying Computer_Science?**"
   ]
  },
  {
   "cell_type": "code",
   "execution_count": 9,
   "metadata": {},
   "outputs": [
    {
     "name": "stdout",
     "output_type": "stream",
     "text": [
      "Probability of female student studying computer science = 0.5\n"
     ]
    }
   ],
   "source": [
    "event_female = student_data[student_data[\"gender\"] == \"female\"]\n",
    "event_CS = student_data[student_data[\"course\"] == 'Computer_Science']\n",
    "\n",
    "#get the joint event\n",
    "joint_event1 = student_data[(student_data[\"gender\"] == \"female\") & (student_data[\"course\"] == \"Computer_Science\")]\n",
    "\n",
    "#the joint probability\n",
    "\n",
    "joint_prob1 = len(joint_event1) / len(student_data)\n",
    "joint_prob1\n",
    "\n",
    "#probability of event_CS\n",
    "\n",
    "probability_CS = len(event_CS) / len(student_data)\n",
    "probability_CS\n",
    "\n",
    "#conditional probability\n",
    "\n",
    "pCS_female = joint_prob1 / probability_CS\n",
    "pCS_female \n",
    "\n",
    "print(f'Probability of female student studying computer science = {pCS_female}')"
   ]
  },
  {
   "cell_type": "markdown",
   "metadata": {},
   "source": [
    "***iii) Probability of a male student studying Data_Science?"
   ]
  },
  {
   "cell_type": "code",
   "execution_count": 10,
   "metadata": {},
   "outputs": [
    {
     "name": "stdout",
     "output_type": "stream",
     "text": [
      "Probabilty of a male student studying Data Science = 0.33333333333333337\n"
     ]
    }
   ],
   "source": [
    "event_male = student_data[student_data[\"gender\"] == \"male\"]\n",
    "event_DS = student_data[student_data[\"course\"] == \"Data_Science\"]\n",
    "\n",
    "#joint event\n",
    "joint_event2 = student_data[(student_data[\"gender\"] == \"male\") & (student_data[\"course\"] == \"Data_Science\")]\n",
    "joint_event2\n",
    "\n",
    "#join probability \n",
    "\n",
    "joint_prob2 = len(joint_event2) / len(student_data)\n",
    "joint_prob2\n",
    "\n",
    "#probability of Data Science\n",
    "probability_DS = len(event_DS) / len(student_data)\n",
    "probability_DS\n",
    "\n",
    "#conditional probability for male studying Data Science\n",
    "pDS_male = joint_prob2 / probability_DS\n",
    "\n",
    "print(f'Probabilty of a male student studying Data Science = {pDS_male}')"
   ]
  }
 ],
 "metadata": {
  "kernelspec": {
   "display_name": "Python 3",
   "language": "python",
   "name": "python3"
  },
  "language_info": {
   "codemirror_mode": {
    "name": "ipython",
    "version": 3
   },
   "file_extension": ".py",
   "mimetype": "text/x-python",
   "name": "python",
   "nbconvert_exporter": "python",
   "pygments_lexer": "ipython3",
   "version": "3.12.0"
  }
 },
 "nbformat": 4,
 "nbformat_minor": 2
}
